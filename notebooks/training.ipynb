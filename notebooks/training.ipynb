{
 "cells": [
  {
   "cell_type": "code",
   "execution_count": 3,
   "id": "6ed2e8f5",
   "metadata": {},
   "outputs": [
    {
     "name": "stdout",
     "output_type": "stream",
     "text": [
      "Now in: c:\\Users\\faizan\\Desktop\\EAST\n"
     ]
    }
   ],
   "source": [
    "import os\n",
    "os.chdir(\"..\")  # move up from notebooks to repo root\n",
    "print(\"Now in:\", os.getcwd())\n",
    "# Add project root to sys.path so 'src' can be imported\n",
    "import sys\n",
    "project_root = os.path.abspath(os.getcwd())\n",
    "if project_root not in sys.path:\n",
    "    sys.path.append(project_root)"
   ]
  },
  {
   "cell_type": "code",
   "execution_count": 4,
   "id": "80fded25",
   "metadata": {},
   "outputs": [
    {
     "name": "stdout",
     "output_type": "stream",
     "text": [
      "c:\\Users\\faizan\\Desktop\\EAST\n",
      "Dataset length: 1000\n",
      "First 3 image paths: ['data/icdar2015/train_images\\\\img_1.jpg', 'data/icdar2015/train_images\\\\img_10.jpg', 'data/icdar2015/train_images\\\\img_100.jpg']\n"
     ]
    }
   ],
   "source": [
    "print(os.getcwd())\n",
    "from src.dataset import EASTDataset\n",
    "ds = EASTDataset(\"data/icdar2015/train_images\", \"data/icdar2015/train_maps\", size=512)\n",
    "\n",
    "print(\"Dataset length:\", len(ds))\n",
    "print(\"First 3 image paths:\", ds.img_paths[:3])"
   ]
  },
  {
   "cell_type": "code",
   "execution_count": 5,
   "id": "7cae46cd",
   "metadata": {},
   "outputs": [
    {
     "name": "stdout",
     "output_type": "stream",
     "text": [
      "Images : torch.Size([4, 3, 512, 512])\n",
      "Scores : torch.Size([4, 1, 512, 512])\n",
      "Geos   : torch.Size([4, 8, 512, 512])\n",
      "Image range: -2.1179039478302 to 2.640000104904175\n",
      "Score unique values: tensor([0., 1.])\n",
      "Geo stats: mean 0.006690621376037598 std 2.7807297706604004\n"
     ]
    }
   ],
   "source": [
    "import torch\n",
    "from torch.utils.data import DataLoader\n",
    "from src.dataset import EASTDataset\n",
    "\n",
    "# create a small dataset instance\n",
    "train_dataset = EASTDataset(\n",
    "    img_dir=\"data/icdar2015/train_images\",\n",
    "    map_dir=\"data/icdar2015/train_maps\",\n",
    "    size=512,              # keep same as paper\n",
    "    training=True          # enable random cropping/augmentation\n",
    ")\n",
    "\n",
    "# try a small dataloader\n",
    "train_loader = DataLoader(train_dataset, batch_size=4, shuffle=True, num_workers=2)\n",
    "\n",
    "# fetch one batch\n",
    "imgs, scores, geos = next(iter(train_loader))\n",
    "print(\"Images :\", imgs.shape)    # expect [B, 3, 512, 512]\n",
    "print(\"Scores :\", scores.shape)  # expect [B, 1, 512, 512]\n",
    "print(\"Geos   :\", geos.shape)    # expect [B, 8, 512, 512] \n",
    "\n",
    "# check value ranges\n",
    "print(\"Image range:\", imgs.min().item(), \"to\", imgs.max().item())\n",
    "print(\"Score unique values:\", torch.unique(scores))\n",
    "print(\"Geo stats: mean\", geos.mean().item(), \"std\", geos.std().item())"
   ]
  },
  {
   "cell_type": "code",
   "execution_count": 7,
   "id": "74fb9abd",
   "metadata": {},
   "outputs": [
    {
     "name": "stdout",
     "output_type": "stream",
     "text": [
      "Score map: torch.Size([1, 1, 512, 512])\n",
      "Geo map: torch.Size([1, 8, 512, 512])\n"
     ]
    }
   ],
   "source": [
    "import torch\n",
    "from src.model import EAST\n",
    "\n",
    "model = EAST(pretrained=False)\n",
    "dummy = torch.randn(1, 3, 512, 512)  # batch of one\n",
    "score, geo = model(dummy)\n",
    "\n",
    "print(\"Score map:\", score.shape)  # expect [1, 1, 512, 512]\n",
    "print(\"Geo map:\", geo.shape)      # expect [1, 8, 512, 512]"
   ]
  }
 ],
 "metadata": {
  "kernelspec": {
   "display_name": "east_venv",
   "language": "python",
   "name": "python3"
  },
  "language_info": {
   "codemirror_mode": {
    "name": "ipython",
    "version": 3
   },
   "file_extension": ".py",
   "mimetype": "text/x-python",
   "name": "python",
   "nbconvert_exporter": "python",
   "pygments_lexer": "ipython3",
   "version": "3.12.7"
  }
 },
 "nbformat": 4,
 "nbformat_minor": 5
}
