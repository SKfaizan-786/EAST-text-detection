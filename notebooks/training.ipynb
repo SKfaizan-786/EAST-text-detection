{
 "cells": [
  {
   "cell_type": "code",
   "execution_count": null,
   "id": "7cae46cd",
   "metadata": {},
   "outputs": [],
   "source": [
    "from torch.utils.data import DataLoader\n",
    "from src.dataset import EASTDataset\n",
    "\n",
    "train_dataset = EASTDataset(\n",
    "    img_dir=\"data/icdar2015/train_images\",\n",
    "    map_dir=\"data/icdar2015/train_maps\"\n",
    ")\n",
    "\n",
    "train_loader = DataLoader(train_dataset, batch_size=4, shuffle=True)\n",
    "\n",
    "imgs, scores, geos = next(iter(train_loader))\n",
    "\n",
    "print(\"Images:\", imgs.shape)\n",
    "print(\"Scores:\", scores.shape)\n",
    "print(\"Geos:\", geos.shape)"
   ]
  }
 ],
 "metadata": {
  "kernelspec": {
   "display_name": "east_venv",
   "language": "python",
   "name": "python3"
  },
  "language_info": {
   "name": "python",
   "version": "3.12.7"
  }
 },
 "nbformat": 4,
 "nbformat_minor": 5
}
