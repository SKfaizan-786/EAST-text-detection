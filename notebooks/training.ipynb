{
 "cells": [
  {
   "cell_type": "code",
   "execution_count": null,
   "id": "6ed2e8f5",
   "metadata": {},
   "outputs": [],
   "source": [
    "import os\n",
    "os.chdir(\"..\")  # move up from notebooks to repo root\n",
    "print(\"Now in:\", os.getcwd())\n",
    "# Add project root to sys.path so 'src' can be imported\n",
    "import sys\n",
    "project_root = os.path.abspath(os.getcwd())\n",
    "if project_root not in sys.path:\n",
    "    sys.path.append(project_root)"
   ]
  },
  {
   "cell_type": "code",
   "execution_count": null,
   "id": "80fded25",
   "metadata": {},
   "outputs": [],
   "source": [
    "print(os.getcwd())\n",
    "from src.dataset import EASTDataset\n",
    "ds = EASTDataset(\"data/icdar2015/train_images\", \"data/icdar2015/train_maps\", size=512)\n",
    "\n",
    "print(\"Dataset length:\", len(ds))\n",
    "print(\"First 3 image paths:\", ds.img_paths[:3])"
   ]
  },
  {
   "cell_type": "code",
   "execution_count": null,
   "id": "7cae46cd",
   "metadata": {},
   "outputs": [],
   "source": [
    "import torch\n",
    "from torch.utils.data import DataLoader\n",
    "from src.dataset import EASTDataset\n",
    "\n",
    "# create a small dataset instance\n",
    "train_dataset = EASTDataset(\n",
    "    img_dir=\"data/icdar2015/train_images\",\n",
    "    map_dir=\"data/icdar2015/train_maps\",\n",
    "    size=512,              # keep same as paper\n",
    "    training=True          # enable random cropping/augmentation\n",
    ")\n",
    "\n",
    "# try a small dataloader\n",
    "train_loader = DataLoader(train_dataset, batch_size=4, shuffle=True, num_workers=2)\n",
    "\n",
    "# fetch one batch\n",
    "imgs, scores, geos = next(iter(train_loader))\n",
    "print(\"Images :\", imgs.shape)    # expect [B, 3, 512, 512]\n",
    "print(\"Scores :\", scores.shape)  # expect [B, 1, 512, 512]\n",
    "print(\"Geos   :\", geos.shape)    # expect [B, 8, 512, 512] \n",
    "\n",
    "# check value ranges\n",
    "print(\"Image range:\", imgs.min().item(), \"to\", imgs.max().item())\n",
    "print(\"Score unique values:\", torch.unique(scores))\n",
    "print(\"Geo stats: mean\", geos.mean().item(), \"std\", geos.std().item())"
   ]
  }
 ],
 "metadata": {
  "kernelspec": {
   "display_name": "east_venv",
   "language": "python",
   "name": "python3"
  },
  "language_info": {
   "codemirror_mode": {
    "name": "ipython",
    "version": 3
   },
   "file_extension": ".py",
   "mimetype": "text/x-python",
   "name": "python",
   "nbconvert_exporter": "python",
   "pygments_lexer": "ipython3",
   "version": "3.12.7"
  }
 },
 "nbformat": 4,
 "nbformat_minor": 5
}
